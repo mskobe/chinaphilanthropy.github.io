{
 "cells": [
  {
   "cell_type": "markdown",
   "metadata": {},
   "source": [
    "```\n",
    "{\n",
    "    \"id\": 1,\n",
    "    \"amount\": 50,\n",
    "    \"month\": 1,\n",
    "    \"date\": 28,\n",
    "    \"orig\": \"Anhui\",\n",
    "    \"dest\": \"Hubei\",\n",
    "    \"cause\": \"Social Welfare & Poverty Alleviation\"\n",
    "  },\n",
    "```"
   ]
  },
  {
   "cell_type": "code",
   "execution_count": 38,
   "metadata": {},
   "outputs": [],
   "source": [
    "import xlrd\n",
    "import json\n",
    "class Donation:\n",
    "    id, amount, month, date, orig, dest, cause = 0, '', '', '', '', '', ''\n",
    "    def __init__(self, id, amount, month, date, orig, dest, cause):\n",
    "        self.id, self.amount, self.month, self.date, self.orig, self.dest, self.cause = id, amount, month, date, orig, dest, cause\n",
    "    def pprint(self):\n",
    "        print({\n",
    "            \"id\": self.id,\n",
    "            \"amount\": self.amount,\n",
    "            \"month\": self.month,\n",
    "            \"date\": self.date,\n",
    "            \"orig\": self.orig,\n",
    "            \"dest\": self.dest,\n",
    "            \"cause\": self.cause\n",
    "        })\n",
    "    def tojson(self):\n",
    "        return {\n",
    "            \"id\": self.id,\n",
    "            \"amount\": self.amount,\n",
    "            \"month\": self.month,\n",
    "            \"date\": self.date,\n",
    "            \"orig\": self.orig,\n",
    "            \"dest\": self.dest,\n",
    "            \"cause\": self.cause\n",
    "        }\n",
    "data = xlrd.open_workbook('alldonation.xlsx')\n",
    "table = data.sheets()[0]\n",
    "nrows = table.nrows\n",
    "ncols = table.ncols\n",
    "all = alleviation = culture = disaster = education = environment = health = unspecified = []\n",
    "for i in range(1, nrows):\n",
    "    row = table.row_values(i)\n",
    "    month = int(row[6]) if isinstance(row[6], float) else ''\n",
    "    date = int(row[7]) if isinstance(row[7], float) else ''\n",
    "    cause = row[17]\n",
    "    data = {\n",
    "            \"id\": i,\n",
    "            \"amount\": row[5],\n",
    "            \"month\": month,\n",
    "            \"date\": date,\n",
    "            \"orig\": row[9],\n",
    "            \"dest\": row[11],\n",
    "            \"cause\": cause\n",
    "        }\n",
    "    all.append(data)\n",
    "    if cause == 'Social Welfare & Poverty Alleviation': alleviation.append(data)\n",
    "    if cause == 'Culture': culture.append(data)\n",
    "    if cause == 'Disaster Relief': disaster.append(data)\n",
    "    if cause == 'Education': education.append(data)\n",
    "    if cause == 'Environment': environment.append(data)\n",
    "    if cause == 'Public Health': health.append(data)\n",
    "    if cause == 'Unspecified': unspecified.append(data)\n",
    "with open('all.json', 'w') as f:\n",
    "    json.dump(all, f)\n",
    "with open('alleviation.json', 'w') as f:\n",
    "    json.dump(alleviation, f)\n",
    "with open('culture.json', 'w') as f:\n",
    "    json.dump(culture, f)\n",
    "with open('disaster.json', 'w') as f:\n",
    "    json.dump(disaster, f)\n",
    "with open('education.json', 'w') as f:\n",
    "    json.dump(education, f)\n",
    "with open('environment.json', 'w') as f:\n",
    "    json.dump(environment, f)\n",
    "with open('health.json', 'w') as f:\n",
    "    json.dump(health, f)\n",
    "with open('unspecified.json', 'w') as f:\n",
    "    json.dump(unspecified, f)"
   ]
  },
  {
   "cell_type": "code",
   "execution_count": 25,
   "metadata": {},
   "outputs": [
    {
     "name": "stdout",
     "output_type": "stream",
     "text": [
      "{'name': 'ACME', 'shares': 100, 'price': 542.23}\n"
     ]
    }
   ],
   "source": [
    "data = {\n",
    "    'name' : 'ACME',\n",
    "    'shares' : 100,\n",
    "    'price' : 542.23\n",
    "}\n",
    "print(data)\n",
    "json_str = json.dumps(data)"
   ]
  },
  {
   "cell_type": "code",
   "execution_count": null,
   "metadata": {
    "collapsed": true
   },
   "outputs": [],
   "source": []
  }
 ],
 "metadata": {
  "kernelspec": {
   "display_name": "Python 3",
   "language": "python",
   "name": "python3"
  },
  "language_info": {
   "codemirror_mode": {
    "name": "ipython",
    "version": 3
   },
   "file_extension": ".py",
   "mimetype": "text/x-python",
   "name": "python",
   "nbconvert_exporter": "python",
   "pygments_lexer": "ipython3",
   "version": "3.6.4"
  }
 },
 "nbformat": 4,
 "nbformat_minor": 2
}
